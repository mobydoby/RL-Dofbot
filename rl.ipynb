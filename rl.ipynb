{
 "cells": [
  {
   "cell_type": "code",
   "execution_count": 3,
   "id": "41578bad",
   "metadata": {},
   "outputs": [],
   "source": [
    "import numpy as np\n",
    "import math\n",
    "import random\n",
    "import matplotlib\n",
    "import matplotlib.pyplot as plt\n",
    "\n",
    "import torch\n",
    "import torch.nn as nn\n",
    "import torch.optim as optim\n",
    "import torch.nn.functional as F\n",
    "import time"
   ]
  },
  {
   "cell_type": "code",
   "execution_count": 4,
   "id": "5e40509c",
   "metadata": {},
   "outputs": [
    {
     "ename": "FileNotFoundError",
     "evalue": "[Errno 2] No such file or directory",
     "output_type": "error",
     "traceback": [
      "\u001b[0;31m---------------------------------------------------------------------------\u001b[0m",
      "\u001b[0;31mFileNotFoundError\u001b[0m                         Traceback (most recent call last)",
      "Cell \u001b[0;32mIn[4], line 2\u001b[0m\n\u001b[1;32m      1\u001b[0m \u001b[38;5;28;01mfrom\u001b[39;00m \u001b[38;5;21;01mArm_Lib\u001b[39;00m \u001b[38;5;28;01mimport\u001b[39;00m Arm_Device\n\u001b[0;32m----> 2\u001b[0m Arm \u001b[38;5;241m=\u001b[39m \u001b[43mArm_Device\u001b[49m\u001b[43m(\u001b[49m\u001b[43m)\u001b[49m  \u001b[38;5;66;03m# Get DOFBOT object\u001b[39;00m\n",
      "File \u001b[0;32m~/miniconda3/lib/python3.10/site-packages/Arm_Lib/Arm_Lib.py:11\u001b[0m, in \u001b[0;36mArm_Device.__init__\u001b[0;34m(self)\u001b[0m\n\u001b[1;32m      9\u001b[0m \u001b[38;5;28;01mdef\u001b[39;00m \u001b[38;5;21m__init__\u001b[39m(\u001b[38;5;28mself\u001b[39m):\n\u001b[1;32m     10\u001b[0m     \u001b[38;5;28mself\u001b[39m\u001b[38;5;241m.\u001b[39maddr \u001b[38;5;241m=\u001b[39m \u001b[38;5;241m0x15\u001b[39m\n\u001b[0;32m---> 11\u001b[0m     \u001b[38;5;28mself\u001b[39m\u001b[38;5;241m.\u001b[39mbus \u001b[38;5;241m=\u001b[39m \u001b[43msmbus\u001b[49m\u001b[38;5;241;43m.\u001b[39;49m\u001b[43mSMBus\u001b[49m\u001b[43m(\u001b[49m\u001b[38;5;241;43m1\u001b[39;49m\u001b[43m)\u001b[49m\n",
      "\u001b[0;31mFileNotFoundError\u001b[0m: [Errno 2] No such file or directory"
     ]
    }
   ],
   "source": [
    "from Arm_Lib import Arm_Device\n",
    "Arm = Arm_Device()  # Get DOFBOT object"
   ]
  },
  {
   "cell_type": "code",
   "execution_count": 5,
   "id": "0c661444",
   "metadata": {},
   "outputs": [
    {
     "data": {
      "text/plain": [
       "<contextlib.ExitStack at 0x7fd31d936320>"
      ]
     },
     "execution_count": 5,
     "metadata": {},
     "output_type": "execute_result"
    }
   ],
   "source": [
    "# set up matplotlib\n",
    "is_ipython = 'inline' in matplotlib.get_backend()\n",
    "if is_ipython:\n",
    "    from IPython import display\n",
    "\n",
    "plt.ion()"
   ]
  },
  {
   "cell_type": "markdown",
   "id": "5d942c5a",
   "metadata": {},
   "source": [
    "Defines Arm related functions for moving the arm. "
   ]
  },
  {
   "cell_type": "code",
   "execution_count": 6,
   "id": "b7236b91",
   "metadata": {},
   "outputs": [],
   "source": [
    "def set_angles(arm, angles, t = angles*np.pi/180*6):\n",
    "    \"\"\"Sets all the angles of arm\n",
    "    Args:\n",
    "        arm - the real robot\n",
    "        angles - the angles to set\n",
    "        t - the amount of time to move each angle\n",
    "    \"\"\"\n",
    "    for joint, (angle, movetime) in enumerate(zip(angles, t)):\n",
    "        arm.Arm_serial_servo_write(joint+1, angle, movetime)\n",
    "\n",
    "def readAllActualJointAngles(arm):\n",
    "    q = np.array([arm.Arm_serial_servo_read(id) for id in range(1,6)])\n",
    "    return q"
   ]
  },
  {
   "cell_type": "code",
   "execution_count": 7,
   "id": "1395b496",
   "metadata": {},
   "outputs": [
    {
     "name": "stdout",
     "output_type": "stream",
     "text": [
      "Using cuda (device)\n"
     ]
    }
   ],
   "source": [
    "# search for gpu\n",
    "device = torch.device(\"cuda\" if torch.cuda.is_available() else \"cpu\")\n",
    "print(f'Using {device} (device)')"
   ]
  },
  {
   "cell_type": "markdown",
   "id": "3a0e12dd",
   "metadata": {},
   "source": [
    "Define the architechure for the Actor and Critic Networks"
   ]
  },
  {
   "cell_type": "markdown",
   "id": "1f440823",
   "metadata": {},
   "source": [
    "Initialize Dofbot"
   ]
  },
  {
   "cell_type": "code",
   "execution_count": 10,
   "id": "329eb128",
   "metadata": {},
   "outputs": [
    {
     "name": "stdout",
     "output_type": "stream",
     "text": [
      "[0.     0.     0.1045] [0. 0. 0.] [0.08285 0.      0.     ] [-0.      -0.      -0.08285] [0. 0. 0.] [-0.12842 -0.      -0.     ]\n",
      "[[ 0.       0.       0.08285 -0.       0.      -0.12842]\n",
      " [ 0.       0.       0.      -0.       0.      -0.     ]\n",
      " [ 0.1045   0.       0.      -0.08285  0.      -0.     ]] [[ 0  0  0  0 -1]\n",
      " [ 0 -1 -1 -1  0]\n",
      " [ 1  0  0  0  0]]\n",
      "[[  0 180]\n",
      " [  0 180]\n",
      " [  0 180]\n",
      " [  0 180]\n",
      " [  0 270]\n",
      " [  0 180]]\n"
     ]
    }
   ],
   "source": [
    "ex = np.array([1,0,0])\n",
    "ey = np.array([0,1,0])\n",
    "ez = np.array([0,0,1])\n",
    "l0 = 0.061 # base to servo 1\n",
    "l1 = 0.0435 # servo 1 to servo 2\n",
    "l2 = 0.08285 # servo 2 to servo 3\n",
    "l3 = 0.08285 # servo 3 to servo 4\n",
    "l4 = 0.07385 # servo 4 to servo 5\n",
    "l5 = 0.05457 # servo 5 to gripper\n",
    "P01 = ( l0 + l1 ) * ez \n",
    "P12 = np.zeros (3) # translation between 1 and 2 frame in 1 frame\n",
    "P23 = l2 * ex # translation between 2 and 3 frame in 2 frame\n",
    "P34 = - l3 * ez # translation between 3 and 4 frame in 3 frame\n",
    "P45 = np.zeros (3) # translation between 4 and 5 frame in 4 frame\n",
    "P5T = -( l4 + l5 ) * ex \n",
    "print(P01,P12,P23,P34,P45,P5T)\n",
    "\n",
    "P = np.array([P01, P12, P23, P34, P45, P5T]).T\n",
    "H = np.array([ez, -ey, -ey, -ey, -ex]).T\n",
    "print(P,H)\n",
    "limits = np.array([0,180] * 6).reshape(6, 2)\n",
    "limits[4, :] = [0, 270]\n",
    "print(limits)"
   ]
  },
  {
   "cell_type": "code",
   "execution_count": 11,
   "id": "43c14eb2",
   "metadata": {},
   "outputs": [],
   "source": [
    "from Robot import UR5Arm\n",
    "dofbot = UR5Arm(P, H, limits)"
   ]
  },
  {
   "cell_type": "markdown",
   "id": "d2afe1a4",
   "metadata": {},
   "source": [
    "During the Training Cycle, the following steps are performed for each epoch:\n",
    "1. Initialize the Robot to a random state.\n",
    "2. select a random end effector position and orientation that\n",
    "   converges to valid joint angles using inverse kinematics\n",
    "3. Run the following in each training epoch that lasts 10 seconds per iteration\n",
    "4. The robot can takes 1 action in a discrete action space for each joint:\n",
    "   - the DQN network outputs a value between -10 and 10 and the arm is commanded to\n",
    "     move each servo that angle amount with velocity V\n",
    "5. Repeat"
   ]
  },
  {
   "cell_type": "markdown",
   "id": "fee57825-7533-4f12-b528-7fddd400cb3a",
   "metadata": {},
   "source": [
    "First we need to establish the bounds for this robot. \n",
    "We move the robot to the home position and measure the maximal length the end effector can reach."
   ]
  },
  {
   "cell_type": "code",
   "execution_count": 1,
   "id": "6e7109f2",
   "metadata": {},
   "outputs": [
    {
     "ename": "NameError",
     "evalue": "name 'Arm_Device' is not defined",
     "output_type": "error",
     "traceback": [
      "\u001b[0;31m---------------------------------------------------------------------------\u001b[0m",
      "\u001b[0;31mNameError\u001b[0m                                 Traceback (most recent call last)",
      "Cell \u001b[0;32mIn[1], line 4\u001b[0m\n\u001b[1;32m      1\u001b[0m \u001b[38;5;28;01mfrom\u001b[39;00m \u001b[38;5;21;01mpath_planning\u001b[39;00m \u001b[38;5;28;01mimport\u001b[39;00m measure_actual_position\n\u001b[1;32m      2\u001b[0m \u001b[38;5;28;01mfrom\u001b[39;00m \u001b[38;5;21;01mkinematics\u001b[39;00m \u001b[38;5;28;01mimport\u001b[39;00m fwdkin, invkin\n\u001b[0;32m----> 4\u001b[0m dofbot \u001b[38;5;241m=\u001b[39m \u001b[43mArm_Device\u001b[49m()\n\u001b[1;32m      5\u001b[0m home_angles \u001b[38;5;241m=\u001b[39m np\u001b[38;5;241m.\u001b[39mones(\u001b[38;5;241m6\u001b[39m)\u001b[38;5;241m*\u001b[39m\u001b[38;5;241m90\u001b[39m\n\u001b[1;32m      6\u001b[0m \u001b[38;5;28mprint\u001b[39m(home_angles)\n",
      "\u001b[0;31mNameError\u001b[0m: name 'Arm_Device' is not defined"
     ]
    }
   ],
   "source": [
    "from path_planning import measure_actual_position\n",
    "from kinematics import fwdkin, invkin\n",
    "\n",
    "dofbot = Arm_Device()\n",
    "home_angles = np.ones(6)*90\n",
    "time_per_angle = 6  # in milliseconds\n",
    "print(home_angles)\n",
    "set_angles(dofbot, home_angles, home_angles * time_per_angle)\n",
    "\n",
    "radius = dofbot.Arm_serial\n",
    "def valid_configurations(arm: Arm):\n",
    "    pass"
   ]
  },
  {
   "cell_type": "code",
   "execution_count": 38,
   "id": "7ff5be62-b5ed-4f5e-b19d-2748800391fd",
   "metadata": {},
   "outputs": [],
   "source": [
    "def generate_P_from_limits(limits):\n",
    "    \"\"\"Tests the target EE configuration process\n",
    "    Generates a random end effector point based on Position vector limits\n",
    "    Args:\n",
    "        limits is a tuple of the smallest and largest norms of P_ees generated\n",
    "    \"\"\"\n",
    "    target_norm = np.random.uniform(limits[0], limits[1])\n",
    "    print(target_norm)\n",
    "    random = np.random.rand(3)\n",
    "    norm_vec = np.linalg.norm(random)\n",
    "    out = random * target_norm/norm_vec\n",
    "    return out"
   ]
  },
  {
   "cell_type": "markdown",
   "id": "c3404deb-fd1b-4426-8285-3efc457594b2",
   "metadata": {},
   "source": [
    "# Set the robot to the home position"
   ]
  },
  {
   "cell_type": "code",
   "execution_count": null,
   "id": "2009f9c9-491f-4279-97ef-eb08b5c6567a",
   "metadata": {},
   "outputs": [],
   "source": [
    " "
   ]
  },
  {
   "cell_type": "code",
   "execution_count": null,
   "id": "941b109d",
   "metadata": {},
   "outputs": [],
   "source": [
    "# define the neural networks\n",
    "\"\"\"\n",
    "The neural network learns an approximation of the value function\n",
    "with a neural network\n",
    "\"\"\"\n",
    "class DQN(nn.Module):\n",
    "    def __init__(self):\n",
    "        super().__init()\n",
    "        \n",
    "    def forward(self, x):\n",
    "        pass\n"
   ]
  },
  {
   "cell_type": "code",
   "execution_count": null,
   "id": "8112e7e8-86d7-4b69-95d5-77544fe3e69d",
   "metadata": {},
   "outputs": [],
   "source": [
    "limits = test"
   ]
  },
  {
   "cell_type": "code",
   "execution_count": null,
   "id": "636af3ac-0f4a-4be1-b68e-831416ace22f",
   "metadata": {},
   "outputs": [],
   "source": [
    "import random\n",
    "from collections import namedtuple, deque\n",
    "\n",
    "class ReplayBuffer:\n",
    "    def __init__(self, action_size, buffer_size, batch_size, seed=0):\n",
    "        self.action_size = action_size\n",
    "        self.memory = deque(maxlen=buffer_size)  # internal memory (deque)\n",
    "        self.batch_size = batch_size\n",
    "        self.experience = namedtuple(\"Experience\", field_names=[\"state\", \"action\", \"reward\", \"next_state\", \"done\"])\n",
    "        self.seed = random.seed(seed)\n",
    "    \n",
    "    def add(self, state, action, reward, next_state, done):\n",
    "        e = self.experience(state, action, reward, next_state, done)\n",
    "        self.memory.append(e)\n",
    "    \n",
    "    def sample(self):\n",
    "        experiences = random.sample(self.memory, k=self.batch_size)\n",
    "\n",
    "        states = np.vstack([e.state for e in experiences if e is not None])\n",
    "        actions = np.vstack([e.action for e in experiences if e is not None])\n",
    "        rewards = np.vstack([e.reward for e in experiences if e is not None])\n",
    "        next_states = np.vstack([e.next_state for e in experiences if e is not None])\n",
    "        dones = np.vstack([e.done for e in experiences if e is not None]).astype(np.uint8)\n",
    "\n",
    "        return (states, actions, rewards, next_states, dones)\n",
    "\n",
    "    def __len__(self):\n",
    "        return len(self.memory)"
   ]
  },
  {
   "cell_type": "code",
   "execution_count": null,
   "id": "03d28832",
   "metadata": {},
   "outputs": [],
   "source": [
    "\n",
    "def train(episodes: int, virtual_arm: UR5Arm, real_arm: Arm):\n",
    "\n",
    "    ms_per_angle = 6\n",
    "    # coefficient for time weight\n",
    "    t_coeff = 0.1\n",
    "    q_network = DQN().to(device)\n",
    "\n",
    "    # optimization and ML constants\n",
    "    for ep in episodes:\n",
    "        # select target destination for arm\n",
    "        \"\"\"\n",
    "        target_end_effector is used to evaluate the model.\n",
    "        The farther the euclidean distance from the end effector,\n",
    "        the lower the reward.\n",
    "        \"\"\"\n",
    "        collision = True\n",
    "        target_angles = np.zeros(5,1)\n",
    "        while not collision:\n",
    "            target_angles = np.random.rand(5, 1) * virtual_arm.get_limits()[:,1].flatten())\n",
    "            collision = collision_check(arm, target_angles)\n",
    "        target_end_effector_pose = fwdkin(dofbot, target_angles)\n",
    "\n",
    "        \"\"\"\n",
    "        the state are the current servo\n",
    "        \"\"\"\n",
    "        start_collision = True\n",
    "        starting_angles = np.zeros(5,1)\n",
    "        while not start_collision:\n",
    "            starting_angles = np.random.rand(5, 1) * virtual_arm.get_limits()[:,1].flatten())\n",
    "            collision = collision_check(arm, starting_angles)\n",
    "        \n",
    "        # initialize the arm to a random state. \n",
    "        set_angles(real_arm, starting_angles, [1000] * 5)\n",
    "\n",
    "        # allow the arm to move for 5 seconds\n",
    "        time_start = time.time()\n",
    "        elapsed_time = 0\n",
    "        while(elapsed_time - time_start < 10):\n",
    "            curr_angles = readAllActualJointAngles()\n",
    "            current_end_effector_pose = fwdkin(dofbot, curr_angles)\n",
    "    \n",
    "            observations = curr_angles, current_end_effector_pose, target_end_effector_pose\n",
    "            dq = q_network(observations)\n",
    "\n",
    "            next_angles = curr_angles + dq\n",
    "            \"\"\"\n",
    "            TO DO \n",
    "            check the joint limits and \n",
    "            penalize if the network tried to go over the joint limits\n",
    "            \"\"\"\n",
    "            set_angles(real_arm, next_angles, dq * ms_per_angle)\n",
    "            \n",
    "            loss = np.linalg.norm(target_angles - curr_angles) + tcoef * elapsed_time\n",
    "            \"\"\"\n",
    "            TO DO\n",
    "            gradient descent on the q network here based on loss\n",
    "            \"\"\"          \n",
    "        \n"
   ]
  },
  {
   "cell_type": "code",
   "execution_count": null,
   "id": "96a8e1a9",
   "metadata": {},
   "outputs": [],
   "source": []
  }
 ],
 "metadata": {
  "kernelspec": {
   "display_name": "Python 3 (ipykernel)",
   "language": "python",
   "name": "python3"
  },
  "language_info": {
   "codemirror_mode": {
    "name": "ipython",
    "version": 3
   },
   "file_extension": ".py",
   "mimetype": "text/x-python",
   "name": "python",
   "nbconvert_exporter": "python",
   "pygments_lexer": "ipython3",
   "version": "3.10.8"
  }
 },
 "nbformat": 4,
 "nbformat_minor": 5
}
